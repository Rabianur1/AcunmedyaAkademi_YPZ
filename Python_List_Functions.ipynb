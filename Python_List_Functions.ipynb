{
 "cells": [
  {
   "cell_type": "code",
   "execution_count": 1,
   "id": "f5c9c570-8a37-4a59-8008-b73e2567b117",
   "metadata": {},
   "outputs": [
    {
     "name": "stdout",
     "output_type": "stream",
     "text": [
      "Yeni liste: ['elma', 'muz', 'çilek', 'portakal', 'kiraz']\n"
     ]
    },
    {
     "name": "stdin",
     "output_type": "stream",
     "text": [
      "Bir meyve giriniz:  armut\n"
     ]
    },
    {
     "name": "stdout",
     "output_type": "stream",
     "text": [
      "Yeni liste:  ['elma', 'muz', 'çilek', 'portakal', 'kiraz', 'armut']\n"
     ]
    }
   ],
   "source": [
    "#1\n",
    "meyveler = [\"elma\", \"muz\", \"çilek\", \"portakal\"] \n",
    "meyveler.append(\"kiraz\") #append ile parantez içerisine yazdığımız kiraz'ı meyveler listesine ekliyoruz.\n",
    "print(\"Yeni liste:\", meyveler)\n",
    "meyve2=input(\"Bir meyve giriniz: \") #meyve2 değişkeni ile yeni bir eleman alıyoruz.\n",
    "meyveler.append(meyve2)\n",
    "print(\"Yeni liste: \", meyveler)"
   ]
  },
  {
   "cell_type": "code",
   "execution_count": 3,
   "id": "7e3b300e-6896-4ac8-8d84-8f8a3f586667",
   "metadata": {},
   "outputs": [
    {
     "name": "stdout",
     "output_type": "stream",
     "text": [
      "Yeni liste:  [10, 20, 30, 40, 50]\n"
     ]
    },
    {
     "name": "stdin",
     "output_type": "stream",
     "text": [
      "Bir sayı giriniz:  60\n",
      "Bir indeks giriniz:  4\n"
     ]
    },
    {
     "name": "stdout",
     "output_type": "stream",
     "text": [
      "Yeni liste:  [10, 20, 30, 40, 60, 50]\n"
     ]
    }
   ],
   "source": [
    "#2\n",
    "sayilar = [10, 20, 30, 50] \n",
    "sayilar.insert(3, 40) #insert ile 3.indekse 40 ekliyoruz.\n",
    "print(\"Yeni liste: \", sayilar)\n",
    "sayi=int(input(\"Bir sayı giriniz: \"))\n",
    "indeks=int(input(\"Bir indeks giriniz: \"))\n",
    "sayilar.insert(indeks,sayi) #Aldığımız sayıyı önce indeks numarası sonra sayı olacak şekilde insert ile listeye ekliyoruz.\n",
    "print(\"Yeni liste: \", sayilar)"
   ]
  },
  {
   "cell_type": "code",
   "execution_count": 5,
   "id": "5d0456fb-d3f3-4b3f-845f-e840677ca8e3",
   "metadata": {},
   "outputs": [
    {
     "name": "stdout",
     "output_type": "stream",
     "text": [
      "Yeni liste:  ['Ali', 'Mehmet', 'Zeynep', 'Ayşe']\n"
     ]
    },
    {
     "name": "stdin",
     "output_type": "stream",
     "text": [
      "Silinecek ismi giriniz:  Ayşe\n"
     ]
    },
    {
     "name": "stdout",
     "output_type": "stream",
     "text": [
      "Yeni liste:  ['Ali', 'Mehmet', 'Zeynep']\n"
     ]
    }
   ],
   "source": [
    "#3\n",
    "isimler = [\"Ali\", \"Ayşe\", \"Mehmet\", \"Zeynep\", \"Ayşe\"] \n",
    "isimler.remove(\"Ayşe\") #remove ile parantez içerisine yazılan elemanı listeden kaldırıyoruz.\n",
    "print(\"Yeni liste: \", isimler)\n",
    "isim=str(input(\"Silinecek ismi giriniz: \")) #Silinecek ismi, isim string olduğundan str(input( ile kullanıcıdan alıyoruz.\n",
    "if isim in isimler: #EĞER kullanıcının girdiği isim listede varsa remove ile istenmiş olan ismi siliyouz.Bunun için if-else yapısını kullanıyoruz.\n",
    "    isimler.remove(isim)\n",
    "    print(\"Yeni liste: \", isimler)\n",
    "else:\n",
    "    print(\"Listede öyle bir isim yok.\")"
   ]
  },
  {
   "cell_type": "code",
   "execution_count": 7,
   "id": "75e08431-a82f-4bd3-9bab-3127630a1470",
   "metadata": {},
   "outputs": [
    {
     "name": "stdout",
     "output_type": "stream",
     "text": [
      "Yeni liste:  [5, 10, 15, 20]\n"
     ]
    },
    {
     "name": "stdin",
     "output_type": "stream",
     "text": [
      "Bir indeks numarası giriniz:  3\n"
     ]
    },
    {
     "name": "stdout",
     "output_type": "stream",
     "text": [
      "Yeni liste:  [5, 10, 15]\n"
     ]
    }
   ],
   "source": [
    "#4\n",
    "rakamlar = [5, 10, 15, 20, 25] \n",
    "rakamlar.pop(4) #Listenin son elemanının indeksi 4 olduğu için pop(4) yazarak o elemanı siliyoruz.\n",
    "print(\"Yeni liste: \", rakamlar)\n",
    "indeks=int(input(\"Bir indeks numarası giriniz: \"))\n",
    "rakamlar.pop(indeks)\n",
    "print(\"Yeni liste: \", rakamlar)"
   ]
  },
  {
   "cell_type": "code",
   "execution_count": 9,
   "id": "73edeebb-4f42-465f-ac21-bd58b4729b17",
   "metadata": {},
   "outputs": [
    {
     "name": "stdout",
     "output_type": "stream",
     "text": [
      "Ters liste:  ['e', 'd', 'c', 'b', 'a']\n"
     ]
    },
    {
     "name": "stdin",
     "output_type": "stream",
     "text": [
      "Yeni bir liste için elemanları giriniz:  istanbul\n"
     ]
    },
    {
     "name": "stdout",
     "output_type": "stream",
     "text": [
      "Ters çevrilmiş yeni liste:  ['l', 'u', 'b', 'n', 'a', 't', 's', 'i']\n"
     ]
    }
   ],
   "source": [
    "#5\n",
    "harfler = [\"a\", \"b\", \"c\", \"d\", \"e\"] \n",
    "harfler.reverse()\n",
    "print(\"Ters liste: \", harfler)\n",
    "yeni_liste=[] #Yeni bir liste oluşturuyoruz.\n",
    "elemanlar=input(\"Yeni bir liste için elemanları giriniz: \")\n",
    "yeni_liste.extend(elemanlar) #Kullanıcının girmiş olduğu elemanları extend ile yeni oluşturduğumuz listeye tek tek ekliyoruz.\n",
    "yeni_liste.reverse() #Yeni oluşan listeyi reserve ile ters çeviriyoruz.\n",
    "print(\"Ters çevrilmiş yeni liste: \", yeni_liste)"
   ]
  },
  {
   "cell_type": "code",
   "execution_count": 1,
   "id": "25affaab-d77e-477a-a09d-2247d9faccb6",
   "metadata": {},
   "outputs": [
    {
     "name": "stdout",
     "output_type": "stream",
     "text": [
      "[]\n"
     ]
    }
   ],
   "source": [
    "#6\n",
    "renkler = [\"kırmızı\", \"mavi\", \"yeşil\", \"sarı\"] \n",
    "renkler.clear()\n",
    "print(renkler)"
   ]
  },
  {
   "cell_type": "code",
   "execution_count": 3,
   "id": "fb4ad469-9ca7-47b0-b268-d66a870f5884",
   "metadata": {},
   "outputs": [
    {
     "name": "stdin",
     "output_type": "stream",
     "text": [
      "Serinin 1.kitabından kaç adet almak istersiniz?:  2\n",
      "Serinin 2.kitabından kaç adet almak istersiniz?:  2\n",
      "Serinin 3.kitabından kaç adet almak istersiniz?:  1\n",
      "Serinin 4.kitabından kaç adet almak istersiniz?:  1\n",
      "Serinin 5.kitabından kaç adet almak istersiniz?:  1\n"
     ]
    },
    {
     "name": "stdout",
     "output_type": "stream",
     "text": [
      "Toplamda ödemeniz gereken tutar 115.0 TL'dir.\n"
     ]
    }
   ],
   "source": [
    "kitap_fiyat=20\n",
    "kitap1=int(input(\"Serinin 1.kitabından kaç adet almak istersiniz?: \"))\n",
    "kitap2=int(input(\"Serinin 2.kitabından kaç adet almak istersiniz?: \"))\n",
    "kitap3=int(input(\"Serinin 3.kitabından kaç adet almak istersiniz?: \"))  \n",
    "kitap4=int(input(\"Serinin 4.kitabından kaç adet almak istersiniz?: \"))\n",
    "kitap5=int(input(\"Serinin 5.kitabından kaç adet almak istersiniz?: \"))\n",
    "\n",
    "kitaplar=[kitap1, kitap2, kitap3, kitap4, kitap5]\n",
    "toplam_kitap=sum(kitaplar)\n",
    "farklı_kitap=sum(1 for kitap in kitaplar if kitap >0)\n",
    "\n",
    "indirim_oranı=0\n",
    "if farklı_kitap==2:\n",
    "  indirim_oranı=0.10\n",
    "elif farklı_kitap==3:\n",
    "  indirim_oranı=0.15\n",
    "elif farklı_kitap==4:\n",
    "  indirim_oranı=0.20\n",
    "elif farklı_kitap==5:\n",
    "  indirim_oranı=0.25\n",
    "\n",
    "indirimli_fiyat=kitap_fiyat*farklı_kitap*(1-indirim_oranı)\n",
    "indirimsiz_fiyat=kitap_fiyat*(toplam_kitap-farklı_kitap)\n",
    "toplam_fiyat=indirimsiz_fiyat+indirimli_fiyat\n",
    "\n",
    "print(\"Toplamda ödemeniz gereken tutar {} TL'dir.\".format(toplam_fiyat))"
   ]
  }
 ],
 "metadata": {
  "kernelspec": {
   "display_name": "Python [conda env:base] *",
   "language": "python",
   "name": "conda-base-py"
  },
  "language_info": {
   "codemirror_mode": {
    "name": "ipython",
    "version": 3
   },
   "file_extension": ".py",
   "mimetype": "text/x-python",
   "name": "python",
   "nbconvert_exporter": "python",
   "pygments_lexer": "ipython3",
   "version": "3.12.7"
  }
 },
 "nbformat": 4,
 "nbformat_minor": 5
}
