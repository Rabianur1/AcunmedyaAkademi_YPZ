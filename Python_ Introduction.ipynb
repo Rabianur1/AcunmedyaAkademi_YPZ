{
 "cells": [
  {
   "cell_type": "code",
   "execution_count": 1,
   "id": "3df6375f-eeb6-433e-972f-c002405cf346",
   "metadata": {},
   "outputs": [
    {
     "name": "stdout",
     "output_type": "stream",
     "text": [
      "İsim: Rabianur Becit\n",
      "Yaş: 20\n",
      "Boy: 1.66\n",
      "Öğrenci mi?: True\n"
     ]
    }
   ],
   "source": [
    "isim=\"Rabianur Becit\"\n",
    "yas=20 \n",
    "boy=1.66\n",
    "ogrenci_mi=True\n",
    "\n",
    "print(\"İsim:\",isim)\n",
    "print(\"Yaş:\",yas)\n",
    "print(\"Boy:\",boy)\n",
    "print(\"Öğrenci mi?:\",ogrenci_mi)"
   ]
  },
  {
   "cell_type": "code",
   "execution_count": 3,
   "id": "d74aa656-4863-44fb-980c-76a449ea5892",
   "metadata": {},
   "outputs": [
    {
     "name": "stdin",
     "output_type": "stream",
     "text": [
      "Doğum yılınızı giriniz:  2004\n"
     ]
    },
    {
     "name": "stdout",
     "output_type": "stream",
     "text": [
      "Yaşınız: 21\n"
     ]
    }
   ],
   "source": [
    "dogum_yili=int(input(\"Doğum yılınızı giriniz: \"))\n",
    "yas=2025-dogum_yili\n",
    "\n",
    "print(\"Yaşınız:\",yas)"
   ]
  },
  {
   "cell_type": "code",
   "execution_count": 5,
   "id": "ed0b2e88-499e-4a87-9997-9a123c58b7f0",
   "metadata": {},
   "outputs": [
    {
     "name": "stdin",
     "output_type": "stream",
     "text": [
      "Birinci sayıyı giriniz:  32\n",
      "İkinci sayıyı giriniz:  6\n"
     ]
    },
    {
     "name": "stdout",
     "output_type": "stream",
     "text": [
      "Toplama: 38.0\n",
      "Çıkarma: 26.0\n",
      "Çarpma: 192.0\n",
      "Bölme: 5.333333333333333\n",
      "Tam Bölme: 5.0\n",
      "Mod Alma: 2.0\n",
      "Üs Alma: 1073741824.0\n"
     ]
    }
   ],
   "source": [
    "sayi1=float(input(\"Birinci sayıyı giriniz: \"))\n",
    "sayi2=float(input(\"İkinci sayıyı giriniz: \"))\n",
    "\n",
    "toplama=sayi1 + sayi2\n",
    "cikarma=sayi1 - sayi2\n",
    "carpma=sayi1 * sayi2\n",
    "bolme=sayi1 / sayi2\n",
    "tam_bolme=sayi1 // sayi2\n",
    "mod=sayi1 % sayi2\n",
    "us=sayi1 ** sayi2\n",
    "\n",
    "print(\"Toplama:\",toplama)\n",
    "print(\"Çıkarma:\",cikarma)\n",
    "print(\"Çarpma:\",carpma)\n",
    "print(\"Bölme:\",bolme)\n",
    "print(\"Tam Bölme:\",tam_bolme)\n",
    "print(\"Mod Alma:\",mod)\n",
    "print(\"Üs Alma:\",us)"
   ]
  },
  {
   "cell_type": "code",
   "execution_count": 7,
   "id": "d2833e94-504e-41d9-9d09-7a801ccf51a4",
   "metadata": {},
   "outputs": [
    {
     "name": "stdin",
     "output_type": "stream",
     "text": [
      "Dairenin yarıçapını giriniz:  5\n"
     ]
    },
    {
     "name": "stdout",
     "output_type": "stream",
     "text": [
      "Dairenin alanı: 78.5\n"
     ]
    }
   ],
   "source": [
    "pi=3.14\n",
    "yaricap=float(input(\"Dairenin yarıçapını giriniz: \"))\n",
    "alan=pi*(yaricap ** 2)\n",
    "\n",
    "print(\"Dairenin alanı:\",alan)"
   ]
  },
  {
   "cell_type": "code",
   "execution_count": 9,
   "id": "8fc2501d-70d6-4b08-b1cd-6b66cfb948af",
   "metadata": {},
   "outputs": [
    {
     "name": "stdout",
     "output_type": "stream",
     "text": [
      "Sonuç: 6.0\n"
     ]
    }
   ],
   "source": [
    "sayi=10\n",
    "sayi+= 5 \n",
    "sayi-= 3 \n",
    "sayi*= 2  \n",
    "sayi/= 4  \n",
    "\n",
    "print(\"Sonuç:\",sayi)"
   ]
  },
  {
   "cell_type": "code",
   "execution_count": 11,
   "id": "98618729-5645-44b1-a6fc-533269989777",
   "metadata": {},
   "outputs": [
    {
     "name": "stdout",
     "output_type": "stream",
     "text": [
      "Python Programlama\n"
     ]
    }
   ],
   "source": [
    "metin=\"Python\"\n",
    "metin+=\" Programlama\"\n",
    "\n",
    "print(metin)"
   ]
  },
  {
   "cell_type": "code",
   "execution_count": 13,
   "id": "3be0784a-7526-42ff-aa1a-1a1ea98c3789",
   "metadata": {},
   "outputs": [
    {
     "name": "stdout",
     "output_type": "stream",
     "text": [
      "True\n",
      "False\n",
      "True\n"
     ]
    }
   ],
   "source": [
    "yas=21\n",
    "kosul=yas > 18 and yas < 65\n",
    "kosul1=yas < 18 or yas > 65\n",
    "kosul2=not(yas == 25)\n",
    "\n",
    "print(kosul)\n",
    "print(kosul1)\n",
    "print(kosul2)"
   ]
  },
  {
   "cell_type": "code",
   "execution_count": 15,
   "id": "029bed6f-efa2-46fd-b08c-f421dc6a1c2e",
   "metadata": {},
   "outputs": [
    {
     "name": "stdin",
     "output_type": "stream",
     "text": [
      "Bir sayı giriniz:  18\n"
     ]
    },
    {
     "name": "stdout",
     "output_type": "stream",
     "text": [
      "True\n"
     ]
    }
   ],
   "source": [
    "sayi=int(input(\"Bir sayı giriniz: \"))\n",
    "kosul= sayi%2==0 and sayi>0\n",
    "\n",
    "print(kosul)"
   ]
  },
  {
   "cell_type": "code",
   "execution_count": 17,
   "id": "9e1c8712-be86-4cd7-bb89-a5f270550112",
   "metadata": {},
   "outputs": [
    {
     "name": "stdin",
     "output_type": "stream",
     "text": [
      "Yaşınızı giriniz:  20\n",
      "Ehliyetiniz var mı?(True/False)  True\n"
     ]
    },
    {
     "name": "stdout",
     "output_type": "stream",
     "text": [
      "Araba kullanabilirsiniz.\n"
     ]
    }
   ],
   "source": [
    "yas=int(input(\"Yaşınızı giriniz: \"))\n",
    "ehliyet=input(\"Ehliyetiniz var mı?(True/False) \")\n",
    "              \n",
    "if yas > 18 and ehliyet:\n",
    "    print(\"Araba kullanabilirsiniz.\")\n",
    "else:\n",
    "    print(\"Araba kullanamazsınız.\")"
   ]
  },
  {
   "cell_type": "code",
   "execution_count": 19,
   "id": "0c21b71f-64fe-4859-81a7-9df424f7deff",
   "metadata": {},
   "outputs": [
    {
     "name": "stdin",
     "output_type": "stream",
     "text": [
      "Bir meyve adı giriniz:  kiraz\n"
     ]
    },
    {
     "name": "stdout",
     "output_type": "stream",
     "text": [
      "Meyve listede var mı?  True\n"
     ]
    }
   ],
   "source": [
    "meyveler=[\"elma\",\"armut\",\"çilek\",\"kiraz\"]\n",
    "meyve = input(\"Bir meyve adı giriniz: \").strip().lower()\n",
    "var_mi=meyve in meyveler\n",
    "\n",
    "print(\"Meyve listede var mı? \",var_mi)"
   ]
  },
  {
   "cell_type": "code",
   "execution_count": 21,
   "id": "3b467ea9-f69b-4c7b-95a0-9affc48bb40d",
   "metadata": {},
   "outputs": [
    {
     "name": "stdin",
     "output_type": "stream",
     "text": [
      "Bir karakter giriniz:  T\n"
     ]
    },
    {
     "name": "stdout",
     "output_type": "stream",
     "text": [
      "Parolada bu karakter bulunmaktadır.\n"
     ]
    }
   ],
   "source": [
    "parola=\"PyThOn123\"\n",
    "karakter=input(\"Bir karakter giriniz: \")\n",
    "if karakter not in parola:\n",
    "    print(\"Parolada bu karakter yok.\")\n",
    "else:\n",
    "    print(\"Parolada bu karakter bulunmaktadır.\")"
   ]
  },
  {
   "cell_type": "code",
   "execution_count": 23,
   "id": "5ab04ea7-9ae8-4a27-b673-374f2a6faf06",
   "metadata": {},
   "outputs": [
    {
     "name": "stdout",
     "output_type": "stream",
     "text": [
      "True\n",
      "False\n"
     ]
    }
   ],
   "source": [
    "a = 256\n",
    "b = 256\n",
    "print(a is b) #256'ya kadar aynı değeri taşıyan sayılar aynı bellek adresinde tutulur, ikisi de aynı bellek adresini işaret eder.\n",
    "\n",
    "c = 257\n",
    "d = 257\n",
    "print(c is d) #257 ve sonrası için ayrı bellek adreslerinde tutulur, farklı bellek alanlarını işaret ederler."
   ]
  },
  {
   "cell_type": "code",
   "execution_count": 25,
   "id": "fe93c6af-28ff-483d-ae1e-f454219d85bd",
   "metadata": {},
   "outputs": [
    {
     "name": "stdin",
     "output_type": "stream",
     "text": [
      "Bir metin giriniz:  python programlama dili\n"
     ]
    },
    {
     "name": "stdout",
     "output_type": "stream",
     "text": [
      "PYTHON PROGREMLEME DILI\n",
      "Kelime listesi: ['PYTHON', 'PROGREMLEME', 'DILI']\n"
     ]
    }
   ],
   "source": [
    "metin=input(\"Bir metin giriniz: \")\n",
    "metin=metin.upper()\n",
    "metin=metin.strip()\n",
    "metin=metin.replace(\"A\", \"E\")\n",
    "kelimeler=metin.split()\n",
    "\n",
    "print(metin)\n",
    "print(\"Kelime listesi:\",kelimeler)"
   ]
  },
  {
   "cell_type": "code",
   "execution_count": 1,
   "id": "d7f4f864-2e25-4528-913e-49bf7a48a5d9",
   "metadata": {},
   "outputs": [
    {
     "name": "stdout",
     "output_type": "stream",
     "text": [
      "Ters çevrilmiş metin: ilid amalmargorp nohtyP\n",
      "Değişmiş metin: Python kodlama dili\n"
     ]
    }
   ],
   "source": [
    "metin=\"Python programlama dili\"\n",
    "ters_metin=metin[::-1]\n",
    "degismis_metin=metin.replace(\"programlama\", \"kodlama\")\n",
    "\n",
    "print(\"Ters çevrilmiş metin:\",ters_metin)\n",
    "print(\"Değişmiş metin:\",degismis_metin)"
   ]
  },
  {
   "cell_type": "code",
   "execution_count": 3,
   "id": "8dbc4925-b707-496b-b1fe-1d164c11dd9b",
   "metadata": {},
   "outputs": [
    {
     "name": "stdin",
     "output_type": "stream",
     "text": [
      "Üçgenin yüksekliğini giriniz:  6\n",
      "Üçgenin taban uzunluğunu giriniz:  12\n"
     ]
    },
    {
     "name": "stdout",
     "output_type": "stream",
     "text": [
      "Üçgenin alanı 36.0 olarak bulunmuştur.\n"
     ]
    }
   ],
   "source": [
    "yükseklik=float(input(\"Üçgenin yüksekliğini giriniz: \"))\n",
    "taban_uzunluğu=float(input(\"Üçgenin taban uzunluğunu giriniz: \"))\n",
    "\n",
    "alan = yükseklik*taban_uzunluğu/2\n",
    "print('Üçgenin alanı {} olarak bulunmuştur.'.format(alan))"
   ]
  },
  {
   "cell_type": "code",
   "execution_count": 7,
   "id": "40be7b3a-f80a-4732-b8b4-d828cb70a706",
   "metadata": {},
   "outputs": [
    {
     "name": "stdin",
     "output_type": "stream",
     "text": [
      "İsminizi giriniz:  Rabianur\n",
      "Soyisminizi giriniz:  Becit\n",
      "Yaşınızı giriniz:  21\n",
      "İlkokulunuzu giriniz:  Atatürk İlkokulu\n"
     ]
    },
    {
     "name": "stdout",
     "output_type": "stream",
     "text": [
      "Atatürk İlkokulu'na 2011 yılında gitmeye başladınız.\n"
     ]
    }
   ],
   "source": [
    "isim=input(\"İsminizi giriniz: \")\n",
    "soyisim=input(\"Soyisminizi giriniz: \")\n",
    "yas=int(input(\"Yaşınızı giriniz: \"))\n",
    "ilkokul=input(\"İlkokulunuzu giriniz: \")\n",
    "okula_baslama_yası=2025 - (yas-7)\n",
    "\n",
    "print(\"{}'na {} yılında gitmeye başladınız.\".format(ilkokul,okula_baslama_yası))"
   ]
  }
 ],
 "metadata": {
  "kernelspec": {
   "display_name": "Python [conda env:base] *",
   "language": "python",
   "name": "conda-base-py"
  },
  "language_info": {
   "codemirror_mode": {
    "name": "ipython",
    "version": 3
   },
   "file_extension": ".py",
   "mimetype": "text/x-python",
   "name": "python",
   "nbconvert_exporter": "python",
   "pygments_lexer": "ipython3",
   "version": "3.12.7"
  }
 },
 "nbformat": 4,
 "nbformat_minor": 5
}
