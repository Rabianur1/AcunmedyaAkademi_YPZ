{
 "cells": [
  {
   "cell_type": "code",
   "execution_count": 1,
   "id": "82e43186-8d7f-4385-a375-07488a83de0e",
   "metadata": {},
   "outputs": [
    {
     "name": "stdin",
     "output_type": "stream",
     "text": [
      "Birinci sayıyı giriniz:  10\n",
      "İkici sayıyı giriniz:  20\n"
     ]
    },
    {
     "name": "stdout",
     "output_type": "stream",
     "text": [
      "Toplam= 30\n"
     ]
    }
   ],
   "source": [
    "#SORU 1:\n",
    "sayi1=int(input(\"Birinci sayıyı giriniz: \"))\n",
    "sayi2=int(input(\"İkici sayıyı giriniz: \"))\n",
    "toplam=sayi1+sayi2\n",
    "print(\"Toplam=\", toplam)"
   ]
  },
  {
   "cell_type": "code",
   "execution_count": 3,
   "id": "b078d5f7-f83d-4cc2-8eb4-76fffe0cdd6c",
   "metadata": {},
   "outputs": [
    {
     "name": "stdin",
     "output_type": "stream",
     "text": [
      "Bir tam sayı giriniz:  12\n"
     ]
    },
    {
     "name": "stdout",
     "output_type": "stream",
     "text": [
      "Pozitif\n"
     ]
    }
   ],
   "source": [
    "#SORU 2:\n",
    "sayi=int(input(\"Bir tam sayı giriniz: \"))\n",
    "if sayi>0:\n",
    "    print(\"Pozitif\")\n",
    "elif sayi<0:\n",
    "    print(\"Negatif\")\n",
    "else:\n",
    "    print(\"Sıfır\")"
   ]
  },
  {
   "cell_type": "code",
   "execution_count": 5,
   "id": "1fa321d2-84ed-4dcb-ad44-5a996d3a2a48",
   "metadata": {},
   "outputs": [
    {
     "name": "stdin",
     "output_type": "stream",
     "text": [
      "Birinci tam sayıyı giriniz:  4\n",
      "İkincici tam sayıyı giriniz:  8\n",
      "Üçüncü tam sayıyı giriniz:  12\n"
     ]
    },
    {
     "name": "stdout",
     "output_type": "stream",
     "text": [
      "En büyük sayı=  12\n"
     ]
    }
   ],
   "source": [
    "#SORU 3:\n",
    "num1=int(input(\"Birinci tam sayıyı giriniz: \"))\n",
    "num2=int(input(\"İkincici tam sayıyı giriniz: \"))\n",
    "num3=int(input(\"Üçüncü tam sayıyı giriniz: \"))\n",
    "if num1>num2 and num1>num3:\n",
    "    print(\"En büyük sayı= \",num1)\n",
    "elif num2>num1 and num2>num3:\n",
    "    print(\"En büyük sayı= \", num2)\n",
    "else:\n",
    "    print(\"En büyük sayı= \", num3)"
   ]
  },
  {
   "cell_type": "code",
   "execution_count": 7,
   "id": "b10101d0-e424-4c32-9933-4de68fb3f487",
   "metadata": {},
   "outputs": [
    {
     "name": "stdin",
     "output_type": "stream",
     "text": [
      "Bir sayı giriniz:  6\n"
     ]
    },
    {
     "name": "stdout",
     "output_type": "stream",
     "text": [
      "Bu sayı çifttir.\n"
     ]
    }
   ],
   "source": [
    "#SORU 4:\n",
    "num=int(input(\"Bir sayı giriniz: \"))\n",
    "if num%2==0:\n",
    "    print(\"Bu sayı çifttir.\")\n",
    "else:\n",
    "    print(\"Bu sayı tektir.\")"
   ]
  },
  {
   "cell_type": "code",
   "execution_count": 9,
   "id": "4260d5a1-23d2-4dcb-b94c-399b19f6b953",
   "metadata": {},
   "outputs": [
    {
     "name": "stdin",
     "output_type": "stream",
     "text": [
      "1 ile 7 arasında bir sayı giriniz:  5\n"
     ]
    },
    {
     "name": "stdout",
     "output_type": "stream",
     "text": [
      "Cuma\n"
     ]
    }
   ],
   "source": [
    "#SORU 5:\n",
    "day= int(input(\"1 ile 7 arasında bir sayı giriniz: \"))\n",
    "match day:\n",
    "    case 1:\n",
    "        print(\"Pazartesi\")\n",
    "    case 2:\n",
    "        print(\"Salı\")\n",
    "    case 3:\n",
    "        print(\"Çarşamba\")\n",
    "    case 4:\n",
    "        print(\"Perşembe\")\n",
    "    case 5:\n",
    "        print(\"Cuma\")\n",
    "    case 6:\n",
    "        print(\"Cumartesi\")\n",
    "    case 7:\n",
    "        print(\"Pazar\")\n",
    "    case _:\n",
    "        print(\"Geçersiz gün\")"
   ]
  },
  {
   "cell_type": "code",
   "execution_count": 11,
   "id": "b416d9af-ad39-49b9-8ba7-8491af52df19",
   "metadata": {},
   "outputs": [
    {
     "name": "stdin",
     "output_type": "stream",
     "text": [
      "Birinci sayıyı giriniz:  20\n",
      "İkinci sayıyı giriniz:  4\n",
      "İşlemi seçiniz(+, -, *, /):  *\n"
     ]
    },
    {
     "name": "stdout",
     "output_type": "stream",
     "text": [
      "Sonuç:  80\n"
     ]
    }
   ],
   "source": [
    "#SORU 6:\n",
    "sayi1= int(input(\"Birinci sayıyı giriniz: \"))\n",
    "sayi2= int(input(\"İkinci sayıyı giriniz: \"))\n",
    "islem= input(\"İşlemi seçiniz(+, -, *, /): \")\n",
    "match islem:\n",
    "    case \"+\":\n",
    "        sonuc=sayi1+sayi2\n",
    "        print(\"Sonuç: \", sonuc)\n",
    "    case \"-\":\n",
    "        sonuc=sayi1-sayi2\n",
    "        print(\"Sonuç: \", sonuc)\n",
    "    case \"*\":\n",
    "        sonuc=sayi1*sayi2\n",
    "        print(\"Sonuç: \", sonuc)\n",
    "    case \"/\":\n",
    "        if sayi2==0:\n",
    "            print(\"Hata\")\n",
    "        else:\n",
    "            sonuc=sayi1/sayi2\n",
    "            print(\"Sonuç: \", sonuc)\n",
    "    case _:\n",
    "        print(\"Geçersiz işlem!\")"
   ]
  },
  {
   "cell_type": "code",
   "execution_count": 13,
   "id": "6fece9bc-5371-439a-b381-7a3973af1ad0",
   "metadata": {},
   "outputs": [
    {
     "name": "stdin",
     "output_type": "stream",
     "text": [
      "Bir sayı giriniz:  5\n"
     ]
    },
    {
     "name": "stdout",
     "output_type": "stream",
     "text": [
      "Toplam=  15\n"
     ]
    }
   ],
   "source": [
    "#SORU 7:\n",
    "num=int(input(\"Bir sayı giriniz: \"))\n",
    "sum=0\n",
    "for i in range(1,num+1):\n",
    "    sum+=i\n",
    "print(\"Toplam= \", sum)"
   ]
  },
  {
   "cell_type": "code",
   "execution_count": 15,
   "id": "a8f93fea-6ae4-4152-8e4b-17377b913c74",
   "metadata": {},
   "outputs": [
    {
     "name": "stdin",
     "output_type": "stream",
     "text": [
      "Bir sayı giriniz:  5\n"
     ]
    },
    {
     "name": "stdout",
     "output_type": "stream",
     "text": [
      "5*1=5\n",
      "5*2=10\n",
      "5*3=15\n",
      "5*4=20\n",
      "5*5=25\n",
      "5*6=30\n",
      "5*7=35\n",
      "5*8=40\n",
      "5*9=45\n",
      "5*10=50\n"
     ]
    }
   ],
   "source": [
    "#SORU 8:\n",
    "num=int(input(\"Bir sayı giriniz: \"))\n",
    "for i in range(1,11):\n",
    "    print(\"{}*{}={}\".format(num,i,num*i))"
   ]
  },
  {
   "cell_type": "code",
   "execution_count": 17,
   "id": "33284b38-d225-4348-a378-e20c99552ddb",
   "metadata": {},
   "outputs": [
    {
     "name": "stdin",
     "output_type": "stream",
     "text": [
      "1.sayıyı giriniz:  1\n",
      "2.sayıyı giriniz:  2\n",
      "3.sayıyı giriniz:  3\n",
      "4.sayıyı giriniz:  4\n",
      "5.sayıyı giriniz:  5\n"
     ]
    },
    {
     "name": "stdout",
     "output_type": "stream",
     "text": [
      "Sayıların ortalaması:  3.0\n"
     ]
    }
   ],
   "source": [
    "#SORU 9:\n",
    "sum=0\n",
    "for i in range(1, 6):\n",
    "    num=int(input(f\"{i}.sayıyı giriniz: \"))\n",
    "    sum+= num\n",
    "ort=sum / 5\n",
    "print(\"Sayıların ortalaması: \", ort)"
   ]
  },
  {
   "cell_type": "code",
   "execution_count": 19,
   "id": "24ad7fc6-8928-4e30-b0a5-aab7473b01b5",
   "metadata": {},
   "outputs": [
    {
     "name": "stdin",
     "output_type": "stream",
     "text": [
      "Bir sayı giriniz:  13\n"
     ]
    },
    {
     "name": "stdout",
     "output_type": "stream",
     "text": [
      "Sayı asaldır.\n"
     ]
    }
   ],
   "source": [
    "#SORU 10:\n",
    "num=int(input(\"Bir sayı giriniz: \"))\n",
    "if num<2:\n",
    "    print(\"Sayı asal değildir.\")\n",
    "else:\n",
    "    asal = True\n",
    "    for i in range(2,num):\n",
    "        if num% i == 0:\n",
    "            asal = False\n",
    "            break\n",
    "    \n",
    "    if asal:\n",
    "        print(\"Sayı asaldır.\")\n",
    "    else:\n",
    "        print(\"Sayı asal değildir.\")"
   ]
  },
  {
   "cell_type": "code",
   "execution_count": 21,
   "id": "36ba232b-de2d-407d-87aa-7558b189dd13",
   "metadata": {},
   "outputs": [
    {
     "name": "stdin",
     "output_type": "stream",
     "text": [
      "Bir sayı giriniz:  5\n"
     ]
    },
    {
     "name": "stdout",
     "output_type": "stream",
     "text": [
      "Sayının faktöriyeli:  120\n"
     ]
    }
   ],
   "source": [
    "#SORU 11:\n",
    "num=int(input(\"Bir sayı giriniz: \"))\n",
    "if num<0:\n",
    "    print(\"Faktöriyel hesaplanamaz.\")\n",
    "else:\n",
    "    faktoriyel=1\n",
    "    while num>0:\n",
    "        faktoriyel*= num\n",
    "        num-= 1\n",
    "    print(\"Sayının faktöriyeli: \",faktoriyel)"
   ]
  },
  {
   "cell_type": "code",
   "execution_count": 23,
   "id": "162fc432-d754-4bb5-a0ab-bcb3b9b7eb22",
   "metadata": {},
   "outputs": [
    {
     "name": "stdin",
     "output_type": "stream",
     "text": [
      "1-100 arasında bir sayı tahmin ediniz:  50\n"
     ]
    },
    {
     "name": "stdout",
     "output_type": "stream",
     "text": [
      "Daha küçük bir sayı giriniz.\n"
     ]
    },
    {
     "name": "stdin",
     "output_type": "stream",
     "text": [
      "1-100 arasında bir sayı tahmin ediniz:  20\n"
     ]
    },
    {
     "name": "stdout",
     "output_type": "stream",
     "text": [
      "Daha küçük bir sayı giriniz.\n"
     ]
    },
    {
     "name": "stdin",
     "output_type": "stream",
     "text": [
      "1-100 arasında bir sayı tahmin ediniz:  10\n"
     ]
    },
    {
     "name": "stdout",
     "output_type": "stream",
     "text": [
      "Daha küçük bir sayı giriniz.\n"
     ]
    },
    {
     "name": "stdin",
     "output_type": "stream",
     "text": [
      "1-100 arasında bir sayı tahmin ediniz:  8\n"
     ]
    },
    {
     "name": "stdout",
     "output_type": "stream",
     "text": [
      "Daha küçük bir sayı giriniz.\n"
     ]
    },
    {
     "name": "stdin",
     "output_type": "stream",
     "text": [
      "1-100 arasında bir sayı tahmin ediniz:  5\n"
     ]
    },
    {
     "name": "stdout",
     "output_type": "stream",
     "text": [
      "Daha küçük bir sayı giriniz.\n"
     ]
    },
    {
     "name": "stdin",
     "output_type": "stream",
     "text": [
      "1-100 arasında bir sayı tahmin ediniz:  3\n"
     ]
    },
    {
     "name": "stdout",
     "output_type": "stream",
     "text": [
      "Doğru tahmin.\n"
     ]
    }
   ],
   "source": [
    "#SORU 12:\n",
    "import random\n",
    "tutulan_sayi = random.randint(1,100)\n",
    "tahmin=0\n",
    "while tahmin!=tutulan_sayi:\n",
    "    tahmin=int(input(\"1-100 arasında bir sayı tahmin ediniz: \"))\n",
    "    if tahmin<tutulan_sayi:\n",
    "        print(\"Daha büyük bir sayı giriniz.\")\n",
    "    elif tahmin>tutulan_sayi:\n",
    "        print(\"Daha küçük bir sayı giriniz.\")\n",
    "    else:\n",
    "        print(\"Doğru tahmin.\")"
   ]
  },
  {
   "cell_type": "code",
   "execution_count": 25,
   "id": "1eb659c4-6945-49b1-b900-71c09fdddcdb",
   "metadata": {},
   "outputs": [
    {
     "name": "stdin",
     "output_type": "stream",
     "text": [
      "Kaç Fibonacci terimi istersiniz:  6\n"
     ]
    },
    {
     "name": "stdout",
     "output_type": "stream",
     "text": [
      "0 1 1 2 3 5 "
     ]
    }
   ],
   "source": [
    "#SORU 13:\n",
    "N=int(input(\"Kaç Fibonacci terimi istersiniz: \"))\n",
    "a, b = 0, 1\n",
    "print(a, b, end=' ')\n",
    "for _ in range(N-2):\n",
    "    a, b = b, a + b\n",
    "    print(b,end=' ')"
   ]
  },
  {
   "cell_type": "code",
   "execution_count": 27,
   "id": "f79c38a5-fd35-4cb6-b4cf-9f4b216e7dbf",
   "metadata": {},
   "outputs": [
    {
     "name": "stdin",
     "output_type": "stream",
     "text": [
      "Bir sayı giriniz:  567\n"
     ]
    },
    {
     "name": "stdout",
     "output_type": "stream",
     "text": [
      "Ters çevrilmiş sayı:  765\n"
     ]
    }
   ],
   "source": [
    "#SORU 14:\n",
    "num=int(input(\"Bir sayı giriniz: \"))\n",
    "ters_num=0\n",
    "while num>0:\n",
    "    ters_num= ters_num*10 + num%10\n",
    "    num//= 10\n",
    "print(\"Ters çevrilmiş sayı: \", ters_num)"
   ]
  },
  {
   "cell_type": "code",
   "execution_count": 29,
   "id": "e0630d68-d52c-4a17-989a-eb9be25bf1c8",
   "metadata": {},
   "outputs": [
    {
     "name": "stdin",
     "output_type": "stream",
     "text": [
      "Bir sayı giriniz:  153\n"
     ]
    },
    {
     "name": "stdout",
     "output_type": "stream",
     "text": [
      "Bu sayı Armstrong bir sayıdır.\n"
     ]
    }
   ],
   "source": [
    "#SORU 15:\n",
    "sayi=int(input(\"Bir sayı giriniz: \"))\n",
    "orijinal_sayi= sayi\n",
    "toplam= 0\n",
    "basamak_sayisi = len(str(sayi))\n",
    "\n",
    "while sayi > 0:\n",
    "    basamak=sayi % 10\n",
    "    toplam+= basamak ** basamak_sayisi\n",
    "    sayi//= 10\n",
    "if toplam==orijinal_sayi:\n",
    "    print(\"Bu sayı Armstrong bir sayıdır.\")\n",
    "else:\n",
    "    print(\"Bu sayı bir Armstrong sayısı değildir.\")"
   ]
  },
  {
   "cell_type": "code",
   "execution_count": 31,
   "id": "59d0d51f-1667-483d-a9c5-585e5b34ee3a",
   "metadata": {},
   "outputs": [
    {
     "name": "stdout",
     "output_type": "stream",
     "text": [
      "2550\n"
     ]
    }
   ],
   "source": [
    "#SORU 16:\n",
    "toplam=0\n",
    "for i in range(1,101):\n",
    "    if i%2==0:\n",
    "        toplam+=i\n",
    "print(toplam)"
   ]
  },
  {
   "cell_type": "code",
   "execution_count": 33,
   "id": "110ea852-c5eb-4d3f-9da1-2b159acbb004",
   "metadata": {},
   "outputs": [
    {
     "name": "stdout",
     "output_type": "stream",
     "text": [
      "945\n"
     ]
    }
   ],
   "source": [
    "#SORU 17:\n",
    "carpim=1\n",
    "for i in range(1,11):\n",
    "    if i%2!=0:\n",
    "        carpim*=i\n",
    "print(carpim)"
   ]
  },
  {
   "cell_type": "code",
   "execution_count": 35,
   "id": "98070f85-55f4-479b-b286-1c5106a4be40",
   "metadata": {},
   "outputs": [
    {
     "name": "stdout",
     "output_type": "stream",
     "text": [
      "1 sayısının karesi 1\n",
      "2 sayısının karesi 4\n",
      "3 sayısının karesi 9\n",
      "4 sayısının karesi 16\n",
      "5 sayısının karesi 25\n",
      "6 sayısının karesi 36\n",
      "7 sayısının karesi 49\n",
      "8 sayısının karesi 64\n",
      "9 sayısının karesi 81\n",
      "10 sayısının karesi 100\n"
     ]
    }
   ],
   "source": [
    "#SORU 18:\n",
    "for i in range(1,11):\n",
    "    kare=i**2\n",
    "    print(f\"{i} sayısının karesi {kare}\")"
   ]
  },
  {
   "cell_type": "code",
   "execution_count": 37,
   "id": "d930c3f9-4268-4f67-8c95-8bde9538a148",
   "metadata": {},
   "outputs": [
    {
     "name": "stdin",
     "output_type": "stream",
     "text": [
      "Bir şifre griniz: python123\n"
     ]
    },
    {
     "name": "stdout",
     "output_type": "stream",
     "text": [
      "Giriş başarılı\n"
     ]
    }
   ],
   "source": [
    "#SORU 19:\n",
    "sifre=str(input(\"Bir şifre griniz:\"))\n",
    "if sifre==\"python123\":\n",
    "    print(\"Giriş başarılı\")\n",
    "else:\n",
    "    print(\"Yanlış şifre\")"
   ]
  },
  {
   "cell_type": "code",
   "execution_count": 39,
   "id": "f61bd1ba-4d83-472a-a8ff-d3e8661e419a",
   "metadata": {},
   "outputs": [
    {
     "name": "stdin",
     "output_type": "stream",
     "text": [
      "Yaşınızı giriniz:  20\n"
     ]
    },
    {
     "name": "stdout",
     "output_type": "stream",
     "text": [
      "Reşit\n"
     ]
    }
   ],
   "source": [
    "#SORU 20:\n",
    "yas=int(input(\"Yaşınızı giriniz: \"))\n",
    "if yas>18:\n",
    "    print(\"Reşit\")\n",
    "else:\n",
    "    print(\"Reşit değil.\")"
   ]
  },
  {
   "cell_type": "code",
   "execution_count": 41,
   "id": "f8cb82f4-f0bf-475a-9011-77feb49f9b72",
   "metadata": {},
   "outputs": [
    {
     "name": "stdin",
     "output_type": "stream",
     "text": [
      "1.ders notunu giriniz:  70\n",
      "2.ders notunu giriniz:  80\n",
      "3.ders notunu giriniz:  60\n"
     ]
    },
    {
     "name": "stdout",
     "output_type": "stream",
     "text": [
      "Geçti\n"
     ]
    }
   ],
   "source": [
    "#SORU 21:\n",
    "not1=int(input(\"1.ders notunu giriniz: \"))\n",
    "not2=int(input(\"2.ders notunu giriniz: \"))\n",
    "not3=int(input(\"3.ders notunu giriniz: \"))\n",
    "if (not1+not2+not3)/3>50:\n",
    "    print(\"Geçti\")\n",
    "else:\n",
    "    print(\"Kaldı\")"
   ]
  },
  {
   "cell_type": "code",
   "execution_count": 43,
   "id": "5bda21f5-b966-43aa-8e2e-c2803ec9e144",
   "metadata": {},
   "outputs": [
    {
     "name": "stdin",
     "output_type": "stream",
     "text": [
      "Boyunuzu giriniz(m):  1.66\n",
      "Kilonuzu giriniz(kg):  60\n"
     ]
    },
    {
     "name": "stdout",
     "output_type": "stream",
     "text": [
      "Normal\n"
     ]
    }
   ],
   "source": [
    "#SORU 22:\n",
    "boy=float(input(\"Boyunuzu giriniz(m): \"))\n",
    "kilo=int(input(\"Kilonuzu giriniz(kg): \"))\n",
    "vki=kilo/boy**2\n",
    "if vki>25:\n",
    "    print(\"Fazla kilolu\")\n",
    "else:\n",
    "    print(\"Normal\")"
   ]
  },
  {
   "cell_type": "code",
   "execution_count": 45,
   "id": "32902f1d-7f51-467d-a64b-da1651d51233",
   "metadata": {},
   "outputs": [
    {
     "name": "stdout",
     "output_type": "stream",
     "text": [
      "Dört İşlem Menüsü\n",
      "1)Toplama\n",
      "2)Çıkarma\n",
      "3)Çarpma\n",
      "4)Bölme\n"
     ]
    },
    {
     "name": "stdin",
     "output_type": "stream",
     "text": [
      "Bir işlem seçiniz(1-4):  3\n",
      "Birinci sayıyı giriniz:  12\n",
      "İkinci sayıyı giriniz:  5\n"
     ]
    },
    {
     "name": "stdout",
     "output_type": "stream",
     "text": [
      "Sonuç:  60.0\n"
     ]
    }
   ],
   "source": [
    "#SORU 23:\n",
    "print(\"Dört İşlem Menüsü\")\n",
    "print(\"1)Toplama\")\n",
    "print(\"2)Çıkarma\")\n",
    "print(\"3)Çarpma\")\n",
    "print(\"4)Bölme\")\n",
    "islem=input(\"Bir işlem seçiniz(1-4): \")\n",
    "sayi1=float(input(\"Birinci sayıyı giriniz: \"))\n",
    "sayi2=float(input(\"İkinci sayıyı giriniz: \"))\n",
    "\n",
    "match islem:\n",
    "    case \"1\":\n",
    "        sonuc=sayi1 + sayi2\n",
    "        print(\"Sonuç: \", sonuc)\n",
    "    case \"2\":\n",
    "        sonuc=sayi1 - sayi2\n",
    "        print(\"Sonuç: \", sonuc)\n",
    "    case \"3\":\n",
    "        sonuc=sayi1 * sayi2\n",
    "        print(\"Sonuç: \", sonuc)\n",
    "    case \"4\":\n",
    "        if sayi2!= 0:\n",
    "            sonuc=sayi1 / sayi2\n",
    "            print(\"Sonuç: \", sonuc)\n",
    "        else:\n",
    "            print(\"Hata.Bir sayı 0'a bölünemez.\")\n",
    "    case _:\n",
    "        print(\"Geçersiz seçim. 1-4 arasında bir sayı giriniz.\")"
   ]
  },
  {
   "cell_type": "code",
   "execution_count": 47,
   "id": "cf951203-f6c8-424c-84f8-8ce529f73b47",
   "metadata": {},
   "outputs": [
    {
     "name": "stdin",
     "output_type": "stream",
     "text": [
      "1.sayıyı giriniz:  12\n",
      "2.sayıyı giriniz:  28\n",
      "3.sayıyı giriniz:  45\n",
      "4.sayıyı giriniz:  8\n"
     ]
    },
    {
     "name": "stdout",
     "output_type": "stream",
     "text": [
      "En küçük sayı:  8\n"
     ]
    }
   ],
   "source": [
    "#SORU 24:\n",
    "num1=int(input(\"1.sayıyı giriniz: \"))\n",
    "num2=int(input(\"2.sayıyı giriniz: \"))\n",
    "num3=int(input(\"3.sayıyı giriniz: \"))\n",
    "num4=int(input(\"4.sayıyı giriniz: \"))\n",
    "en_kucuk=num1\n",
    "\n",
    "if num2< en_kucuk:\n",
    "    en_kucuk = num2\n",
    "if num3< en_kucuk:\n",
    "    en_kucuk = num3\n",
    "if num4< en_kucuk:\n",
    "    en_kucuk= num4\n",
    "print(\"En küçük sayı: \", en_kucuk)"
   ]
  },
  {
   "cell_type": "code",
   "execution_count": 49,
   "id": "5e88d206-867f-421c-a38e-4430217801cd",
   "metadata": {},
   "outputs": [
    {
     "name": "stdin",
     "output_type": "stream",
     "text": [
      "1.sayıyı giriniz:  12\n",
      "2.sayıyı giriniz:  48\n",
      "3.sayıyı giriniz:  24\n"
     ]
    },
    {
     "name": "stdout",
     "output_type": "stream",
     "text": [
      "Sıralama:  12 24 48\n"
     ]
    }
   ],
   "source": [
    "#SORU 25:\n",
    "num1=int(input(\"1.sayıyı giriniz: \"))\n",
    "num2=int(input(\"2.sayıyı giriniz: \"))\n",
    "num3=int(input(\"3.sayıyı giriniz: \"))\n",
    "\n",
    "if num1 > num2:\n",
    "    num1, num2 = num2, num1 \n",
    "if num1 > num3:\n",
    "    num1, num3 = num3, num1 \n",
    "if num2 > num3:\n",
    "    num2, num3 = num3, num2 \n",
    "print(\"Sıralama: \", num1,num2,num3)"
   ]
  },
  {
   "cell_type": "code",
   "execution_count": 51,
   "id": "61cff571-c579-4246-96ba-2aa540919a8a",
   "metadata": {},
   "outputs": [
    {
     "name": "stdin",
     "output_type": "stream",
     "text": [
      "Bir sayı giriniz:  7\n"
     ]
    },
    {
     "name": "stdout",
     "output_type": "stream",
     "text": [
      "1-7 arası sayıların toplamı: 28\n"
     ]
    }
   ],
   "source": [
    "#SORU 26:\n",
    "N=int(input(\"Bir sayı giriniz: \"))\n",
    "toplam=0\n",
    "sayi=1\n",
    "while sayi<= N:\n",
    "    toplam+= sayi\n",
    "    sayi+= 1 \n",
    "print(f\"1-{N} arası sayıların toplamı: {toplam}\")"
   ]
  },
  {
   "cell_type": "code",
   "execution_count": 53,
   "id": "f3a1e1fc-1989-4f42-bfc1-7c01b627d3bb",
   "metadata": {},
   "outputs": [
    {
     "name": "stdout",
     "output_type": "stream",
     "text": [
      "120\n"
     ]
    }
   ],
   "source": [
    "#SORU 27:\n",
    "carpim=1\n",
    "for i in range(1,6):\n",
    "    carpim*=i\n",
    "print(carpim)"
   ]
  },
  {
   "cell_type": "code",
   "execution_count": 55,
   "id": "53bde74e-7568-4af6-a937-0c940cacf313",
   "metadata": {},
   "outputs": [
    {
     "name": "stdout",
     "output_type": "stream",
     "text": [
      "385\n"
     ]
    }
   ],
   "source": [
    "#Soru 28:\n",
    "toplam=0\n",
    "for i in range(1,11):\n",
    "    kare=i**2\n",
    "    toplam+=kare\n",
    "print(toplam)"
   ]
  },
  {
   "cell_type": "code",
   "execution_count": 57,
   "id": "82bc831e-139b-4a5e-9b1a-752308f4a276",
   "metadata": {},
   "outputs": [
    {
     "name": "stdin",
     "output_type": "stream",
     "text": [
      "Bir sayı giriniz:  4\n"
     ]
    },
    {
     "name": "stdout",
     "output_type": "stream",
     "text": [
      "100\n"
     ]
    }
   ],
   "source": [
    "#SORU 29:\n",
    "N=int(input(\"Bir sayı giriniz: \"))\n",
    "kup=1\n",
    "toplam=0\n",
    "for i in range(1,N+1):\n",
    "    kup=i*i*i\n",
    "    toplam+=kup\n",
    "print(toplam)"
   ]
  },
  {
   "cell_type": "code",
   "execution_count": 59,
   "id": "cebf4abe-2aec-47f2-b8d9-6cdb802db806",
   "metadata": {},
   "outputs": [
    {
     "name": "stdout",
     "output_type": "stream",
     "text": [
      "15\n",
      "30\n",
      "45\n",
      "60\n",
      "75\n",
      "90\n",
      "Toplam 6 tane sayı vardır.\n"
     ]
    }
   ],
   "source": [
    "#SORU 30:\n",
    "sayac=0\n",
    "for i in range(1,101):\n",
    "    if i%3==0 and i%5==0:\n",
    "        print(i)\n",
    "        sayac+=1\n",
    "print(f\"Toplam {sayac} tane sayı vardır.\")"
   ]
  },
  {
   "cell_type": "code",
   "execution_count": 61,
   "id": "4aae6b50-eb3f-43c4-81f3-9288c2c02d9b",
   "metadata": {},
   "outputs": [
    {
     "name": "stdin",
     "output_type": "stream",
     "text": [
      "Sınav notunuzu giriniz(1-100):  85\n"
     ]
    },
    {
     "name": "stdout",
     "output_type": "stream",
     "text": [
      "B\n"
     ]
    }
   ],
   "source": [
    "#SORU 31:\n",
    "puan=int(input(\"Sınav notunuzu giriniz(1-100): \"))\n",
    "if 90<=puan<=100:\n",
    "    puan=\"A\"\n",
    "    print(puan)\n",
    "elif 80<=puan<=89:\n",
    "    puan=\"B\"\n",
    "    print(puan)\n",
    "elif 70<=puan<=79:\n",
    "    puan=\"C\"\n",
    "    print(puan)\n",
    "elif 60<=puan<=69:\n",
    "    puan=\"D\"\n",
    "    print(puan)\n",
    "elif 0<=puan<=59:\n",
    "    puan=\"F\"\n",
    "    print(puan)\n",
    "else:\n",
    "    print(\"Geçersiz not\")"
   ]
  },
  {
   "cell_type": "code",
   "execution_count": 63,
   "id": "149093f0-20ac-43be-adfc-edbfe7b804c1",
   "metadata": {},
   "outputs": [
    {
     "name": "stdin",
     "output_type": "stream",
     "text": [
      "1.sayıyı giriniz:  10\n",
      "2.sayıyı giriniz:  10\n",
      "3.sayıyı giriniz:  20\n"
     ]
    },
    {
     "name": "stdout",
     "output_type": "stream",
     "text": [
      "İki sayı eşit\n"
     ]
    }
   ],
   "source": [
    "#SORU 32:\n",
    "num1=int(input(\"1.sayıyı giriniz: \"))\n",
    "num2=int(input(\"2.sayıyı giriniz: \"))\n",
    "num3=int(input(\"3.sayıyı giriniz: \"))\n",
    "if num1==num2==num3:\n",
    "    print(\"Tüm sayılar eşit\")\n",
    "elif num1==num2 or num1==num3 or num2==num3:\n",
    "    print(\"İki sayı eşit\")\n",
    "else:\n",
    "    print(\"Hiçbiri eşit değil\")"
   ]
  },
  {
   "cell_type": "code",
   "execution_count": 65,
   "id": "5f3a4bc9-73e9-4381-906c-d40d3217c6ea",
   "metadata": {},
   "outputs": [
    {
     "name": "stdin",
     "output_type": "stream",
     "text": [
      "Bir yıl giriniz:  2016\n"
     ]
    },
    {
     "name": "stdout",
     "output_type": "stream",
     "text": [
      "2016 bir artık yıldır.\n"
     ]
    }
   ],
   "source": [
    "#SORU 33:\n",
    "year=int(input(\"Bir yıl giriniz: \"))\n",
    "if year%4==0 and year%100!=0 or year%400==0:\n",
    "    print(f\"{year} bir artık yıldır.\")\n",
    "else:\n",
    "    print(f\"{year} bir artık yıl değildir.\")"
   ]
  },
  {
   "cell_type": "code",
   "execution_count": 67,
   "id": "71c95814-89d7-44b1-a712-fabee777c6ee",
   "metadata": {},
   "outputs": [
    {
     "name": "stdin",
     "output_type": "stream",
     "text": [
      "Boyunuzu giriniz(m):  1.66\n",
      "Kilonuzu giriniz(kg):  90\n"
     ]
    },
    {
     "name": "stdout",
     "output_type": "stream",
     "text": [
      "Obez\n"
     ]
    }
   ],
   "source": [
    "#SORU 34:   \n",
    "boy=float(input(\"Boyunuzu giriniz(m): \"))\n",
    "kilo=int(input(\"Kilonuzu giriniz(kg): \"))\n",
    "vki=kilo/boy**2\n",
    "if vki<18.5:\n",
    "    print(\"Zayıf\")\n",
    "elif 18.5<=vki<25:\n",
    "    print(\"Normal\")\n",
    "elif 25<=vki<30:\n",
    "    print(\"Fazla kilolu\")\n",
    "elif vki>=30:\n",
    "    print(\"Obez\")"
   ]
  },
  {
   "cell_type": "code",
   "execution_count": 69,
   "id": "8ea68ae0-6bcb-4066-825f-518dc3510706",
   "metadata": {},
   "outputs": [
    {
     "name": "stdin",
     "output_type": "stream",
     "text": [
      "1.kenarı giriniz:  6\n",
      "2.kenarı giriniz:  8\n",
      "3.kenarı giriniz:  10\n"
     ]
    },
    {
     "name": "stdout",
     "output_type": "stream",
     "text": [
      "Bu bir çeşitkenar üçgen.\n"
     ]
    }
   ],
   "source": [
    "#SORU 35:\n",
    "x=int(input(\"1.kenarı giriniz: \"))\n",
    "y=int(input(\"2.kenarı giriniz: \"))\n",
    "z=int(input(\"3.kenarı giriniz: \"))\n",
    "if x<y+z and y<x+z and z<x+y:\n",
    "    if x==y==z:\n",
    "        print(\"Bu bir eşkenar üçgen.\")\n",
    "    elif x==y or x==z or y==z:\n",
    "        print(\"Bu bir ikizkenar üçgen.\")\n",
    "    else:\n",
    "        print(\"Bu bir çeşitkenar üçgen.\")\n",
    "else:\n",
    "    print(\"Üçgen değil.\")"
   ]
  },
  {
   "cell_type": "code",
   "execution_count": 71,
   "id": "8213bae0-760f-416b-a88a-6d207c0ec410",
   "metadata": {},
   "outputs": [
    {
     "name": "stdin",
     "output_type": "stream",
     "text": [
      "Yaşınızı giriniz:  25\n"
     ]
    },
    {
     "name": "stdout",
     "output_type": "stream",
     "text": [
      "Bilet fiyatı 20 TL.\n"
     ]
    }
   ],
   "source": [
    "#SORU 36:\n",
    "yas=int(input(\"Yaşınızı giriniz: \"))\n",
    "if 0<=yas<=5:\n",
    "    print(\"Bilet fiyatı ücretsiz.\")\n",
    "elif 6<=yas<=18:\n",
    "    print(\"Bilet fiyatı 10TL.\")\n",
    "elif 19<=yas<=64:\n",
    "    print(\"Bilet fiyatı 20 TL.\")\n",
    "elif 65<=yas:\n",
    "    print(\"Bilet fiyatı 15 TL.\")"
   ]
  },
  {
   "cell_type": "code",
   "execution_count": 73,
   "id": "03892cc8-cf29-469a-a992-02d804790991",
   "metadata": {},
   "outputs": [
    {
     "name": "stdin",
     "output_type": "stream",
     "text": [
      "Hava durumunu giriniz(güneşli,yağmurlu,karlı):  karlı\n",
      "Sıcaklığı giriniz(°C):  -1\n"
     ]
    },
    {
     "name": "stdout",
     "output_type": "stream",
     "text": [
      "Kayak yapmaya gidebilirsiniz.\n"
     ]
    }
   ],
   "source": [
    "#SORU 37:\n",
    "hava=str(input(\"Hava durumunu giriniz(güneşli,yağmurlu,karlı): \"))\n",
    "sicaklik=int(input(\"Sıcaklığı giriniz(°C): \"))\n",
    "if hava==\"güneşli\" and sicaklik>=25:\n",
    "    print(\"Piknik yapabilirsiniz.\")\n",
    "elif hava==\"yağmurlu\":\n",
    "    print(\"Şemsiye almayı unutmayın.\")\n",
    "elif hava==\"karlı\" and sicaklik<0:\n",
    "    print(\"Kayak yapmaya gidebilirsiniz.\")\n",
    "else:\n",
    "    print(\"Evde kalabilirsiniz.\")"
   ]
  },
  {
   "cell_type": "code",
   "execution_count": 75,
   "id": "e311cdcb-1974-4241-ba21-d3b71931bf05",
   "metadata": {},
   "outputs": [
    {
     "name": "stdin",
     "output_type": "stream",
     "text": [
      "Bir tam sayı giriniz:  0\n"
     ]
    },
    {
     "name": "stdout",
     "output_type": "stream",
     "text": [
      "Sıfır\n"
     ]
    }
   ],
   "source": [
    "#SORU 38:\n",
    "num=int(input(\"Bir tam sayı giriniz: \"))\n",
    "if num>0:\n",
    "    print(\"Pozitif\")\n",
    "elif num<0:\n",
    "    print(\"Negatif\")\n",
    "else:\n",
    "    print(\"Sıfır\")"
   ]
  },
  {
   "cell_type": "code",
   "execution_count": 77,
   "id": "7c6f3777-22a2-44ba-87a1-f7978d7e4c8c",
   "metadata": {},
   "outputs": [
    {
     "name": "stdin",
     "output_type": "stream",
     "text": [
      "Birinci sayıyı giriniz:  6\n",
      "İkincici sayıyı giriniz:  12\n"
     ]
    },
    {
     "name": "stdout",
     "output_type": "stream",
     "text": [
      "İkinci sayı büyük\n"
     ]
    }
   ],
   "source": [
    "#SORU 39:\n",
    "num1=int(input(\"Birinci sayıyı giriniz: \"))\n",
    "num2=int(input(\"İkincici sayıyı giriniz: \"))\n",
    "if num1>num2:\n",
    "    print(\"Birinci sayı büyük\")\n",
    "elif num2>num1:\n",
    "    print(\"İkinci sayı büyük\")\n",
    "else:\n",
    "    print(\"Sayılar eşit\")"
   ]
  },
  {
   "cell_type": "code",
   "execution_count": 79,
   "id": "060586a2-91c8-4f8a-b0f9-6a7f7e2dff76",
   "metadata": {},
   "outputs": [
    {
     "name": "stdin",
     "output_type": "stream",
     "text": [
      "Alışveriş tutarınızı giriniz:  100\n",
      "Üyelik durumunuzu giriniz(üye/non-üye):  üye\n"
     ]
    },
    {
     "name": "stdout",
     "output_type": "stream",
     "text": [
      "90.0\n"
     ]
    }
   ],
   "source": [
    "#SORU 40:\n",
    "tutar=float(input(\"Alışveriş tutarınızı giriniz: \"))\n",
    "uye=str(input(\"Üyelik durumunuzu giriniz(üye/non-üye): \"))\n",
    "if uye==\"üye\":\n",
    "    tutar=tutar*0.9\n",
    "    print(tutar)\n",
    "else:\n",
    "    tutar=tutar*0.95\n",
    "    print(tutar)"
   ]
  }
 ],
 "metadata": {
  "kernelspec": {
   "display_name": "Python [conda env:base] *",
   "language": "python",
   "name": "conda-base-py"
  },
  "language_info": {
   "codemirror_mode": {
    "name": "ipython",
    "version": 3
   },
   "file_extension": ".py",
   "mimetype": "text/x-python",
   "name": "python",
   "nbconvert_exporter": "python",
   "pygments_lexer": "ipython3",
   "version": "3.12.7"
  }
 },
 "nbformat": 4,
 "nbformat_minor": 5
}
