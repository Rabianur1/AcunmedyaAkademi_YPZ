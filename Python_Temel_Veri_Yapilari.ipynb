{
 "cells": [
  {
   "cell_type": "code",
   "execution_count": 1,
   "id": "90fc4bee-0756-4e1e-a5e8-e095c926490a",
   "metadata": {},
   "outputs": [
    {
     "name": "stdout",
     "output_type": "stream",
     "text": [
      "[1, 2, 3, 5, 8]\n"
     ]
    }
   ],
   "source": [
    "#1\n",
    "numaralar=[8, 3, 8, 1, 2, 3, 5, 5]\n",
    "numbers=list(set(numaralar))\n",
    "print(numbers)"
   ]
  },
  {
   "cell_type": "code",
   "execution_count": 3,
   "id": "6cf683cb-8625-429f-b90f-8009c692903e",
   "metadata": {},
   "outputs": [
    {
     "name": "stdout",
     "output_type": "stream",
     "text": [
      "{'isim': 'Haruki', 'ülke': 'Japonya'}\n"
     ]
    }
   ],
   "source": [
    "#2\n",
    "sanatci = {\"isim\": \"Haruki\"}\n",
    "sanatci[\"ülke\"] =\"Japonya\"\n",
    "print(sanatci)"
   ]
  },
  {
   "cell_type": "code",
   "execution_count": 5,
   "id": "e21abced-5958-4d3c-ad19-a2a5f3880d4b",
   "metadata": {},
   "outputs": [
    {
     "name": "stdin",
     "output_type": "stream",
     "text": [
      "Kitap adını giriniz:  Sefiller\n",
      "Kaç adet almak istiyorsunuz?:  3\n"
     ]
    },
    {
     "name": "stdout",
     "output_type": "stream",
     "text": [
      "Yetersiz stok.\n"
     ]
    }
   ],
   "source": [
    "#3\n",
    "kitap_stok = {\"1984\": 4, \"Sefiller\": 2, \"Martı\": 5}\n",
    "kitap_adi=input(\"Kitap adını giriniz: \")\n",
    "adet=int(input(\"Kaç adet almak istiyorsunuz?: \"))\n",
    "stok=kitap_stok.get(kitap_adi)\n",
    "\n",
    "if stok is None:\n",
    "        print(\"Bu kitap stokta yok.\")\n",
    "elif stok >= adet:\n",
    "        kitap_stok[kitap_adi]-= adet\n",
    "        print(\"Sipariş tamamlandı.\")\n",
    "else:\n",
    "        print(\"Yetersiz stok.\")"
   ]
  },
  {
   "cell_type": "code",
   "execution_count": 7,
   "id": "6bf0eb49-eaa3-4eed-bdbf-72722fa1bcb9",
   "metadata": {},
   "outputs": [
    {
     "name": "stdout",
     "output_type": "stream",
     "text": [
      "['Telefon', 'Laptop']\n"
     ]
    }
   ],
   "source": [
    "#4\n",
    "urunler = {\n",
    "    \"Telefon\": {\"yil\": 2019},\n",
    "    \"Televizyon\": {\"yil\": 2014},\n",
    "    \"Laptop\": {\"yil\": 2021}\n",
    "}\n",
    "yeni_urunler=[]\n",
    "for urun in urunler:\n",
    "    if urunler[urun][\"yil\"] > 2015:\n",
    "        yeni_urunler.append(urun)\n",
    "print(yeni_urunler)"
   ]
  },
  {
   "cell_type": "code",
   "execution_count": 9,
   "id": "77f9b5e2-46ae-4be6-b69d-43b85a0a626d",
   "metadata": {},
   "outputs": [
    {
     "name": "stdout",
     "output_type": "stream",
     "text": [
      "{'isim': 'Nihan', 'hobiler': ['yoga', 'resim', 'yüzme']}\n"
     ]
    }
   ],
   "source": [
    "#5\n",
    "profil = {\n",
    "    \"isim\": \"Nihan\",\n",
    "    \"hobiler\": [\"yoga\", \"resim\"]\n",
    "}\n",
    "profil[\"hobiler\"].append(\"yüzme\")\n",
    "print(profil)"
   ]
  },
  {
   "cell_type": "code",
   "execution_count": 11,
   "id": "d0aedf5d-1eef-43e2-a6a0-193fd1e65395",
   "metadata": {},
   "outputs": [
    {
     "name": "stdout",
     "output_type": "stream",
     "text": [
      "ad: Veri Bilimi\n",
      "süre: 6 hafta\n",
      "seviye: Orta\n"
     ]
    }
   ],
   "source": [
    "#6\n",
    "kurs = {\n",
    "    \"ad\": \"Veri Bilimi\",\n",
    "    \"süre\": \"6 hafta\",\n",
    "    \"seviye\": \"Orta\"\n",
    "}\n",
    "for anahtar, deger in kurs.items():\n",
    "    print(f\"{anahtar}: {deger}\")"
   ]
  },
  {
   "cell_type": "code",
   "execution_count": 13,
   "id": "135669ef-7814-4336-9058-b3ee0ae4ed52",
   "metadata": {},
   "outputs": [
    {
     "name": "stdout",
     "output_type": "stream",
     "text": [
      "Ekin\n",
      "Deniz\n"
     ]
    }
   ],
   "source": [
    "#7\n",
    "notlar = {\n",
    "    \"Ekin\": 91,\n",
    "    \"Barış\": 76,\n",
    "    \"Deniz\": 88,\n",
    "    \"Umut\": 63\n",
    "}\n",
    "for isim, puan in notlar.items():\n",
    "    if puan >= 85:\n",
    "        print(isim)"
   ]
  },
  {
   "cell_type": "code",
   "execution_count": 15,
   "id": "a794d0ad-29af-4371-a47b-6196e2520bf7",
   "metadata": {},
   "outputs": [
    {
     "name": "stdin",
     "output_type": "stream",
     "text": [
      "Şehir adını giriniz:  Berlin\n"
     ]
    },
    {
     "name": "stdout",
     "output_type": "stream",
     "text": [
      "{'nüfus': 3600000}\n"
     ]
    }
   ],
   "source": [
    "#8\n",
    "sehir_bilgi = {\n",
    "    \"Berlin\": {\"nüfus\": 3_600_000},\n",
    "    \"Madrid\": {\"nüfus\": 3_200_000}\n",
    "}\n",
    "sehir=input(\"Şehir adını giriniz: \")\n",
    "bilgi=sehir_bilgi.get(sehir)\n",
    "\n",
    "if bilgi:\n",
    "    print(bilgi)\n",
    "else:\n",
    "    print(\"Veri yok\")"
   ]
  },
  {
   "cell_type": "code",
   "execution_count": 17,
   "id": "79a3d8fd-ec33-4a75-92f3-6e40d75f745a",
   "metadata": {},
   "outputs": [
    {
     "name": "stdout",
     "output_type": "stream",
     "text": [
      "{'masa': 1380.0, 'sandalye': 517.5, 'lamba': 345.0}\n"
     ]
    }
   ],
   "source": [
    "#9\n",
    "fiyatlar = {\n",
    "    \"masa\": 1200,\n",
    "    \"sandalye\": 450,\n",
    "    \"lamba\": 300\n",
    "}\n",
    "for urun, fiyat in fiyatlar.items():\n",
    "    fiyatlar[urun]=fiyat * 1.15\n",
    "print(fiyatlar)"
   ]
  },
  {
   "cell_type": "code",
   "execution_count": 19,
   "id": "10619d75-e81d-414b-b12a-83c7af03c26a",
   "metadata": {},
   "outputs": [
    {
     "name": "stdout",
     "output_type": "stream",
     "text": [
      "ProjeX\n",
      "ProjeZ\n"
     ]
    }
   ],
   "source": [
    "#10\n",
    "projeler = {\n",
    "    \"ProjeX\": {\"durum\": \"aktif\", \"süre\": 3},\n",
    "    \"ProjeY\": {\"durum\": \"tamamlandı\", \"süre\": 6},\n",
    "    \"ProjeZ\": {\"durum\": \"aktif\", \"süre\": 2}\n",
    "}\n",
    "for proje, bilgi in projeler.items():\n",
    "    if bilgi[\"durum\"]==\"aktif\":\n",
    "        print(proje)"
   ]
  }
 ],
 "metadata": {
  "kernelspec": {
   "display_name": "Python [conda env:base] *",
   "language": "python",
   "name": "conda-base-py"
  },
  "language_info": {
   "codemirror_mode": {
    "name": "ipython",
    "version": 3
   },
   "file_extension": ".py",
   "mimetype": "text/x-python",
   "name": "python",
   "nbconvert_exporter": "python",
   "pygments_lexer": "ipython3",
   "version": "3.12.7"
  }
 },
 "nbformat": 4,
 "nbformat_minor": 5
}
