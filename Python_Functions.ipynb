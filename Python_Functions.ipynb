{
 "cells": [
  {
   "cell_type": "code",
   "execution_count": 1,
   "id": "adaaaf2f-2f00-46b3-98e1-189dbb16c655",
   "metadata": {},
   "outputs": [
    {
     "name": "stdout",
     "output_type": "stream",
     "text": [
      "Merhaba,Python!\n"
     ]
    }
   ],
   "source": [
    "#SORU 1:\n",
    "def merhaba_de():\n",
    "    print(\"Merhaba,Python!\")\n",
    "merhaba_de()"
   ]
  },
  {
   "cell_type": "code",
   "execution_count": 3,
   "id": "3a3adde6-8809-49ac-bbe4-a062118a19ed",
   "metadata": {},
   "outputs": [
    {
     "name": "stdout",
     "output_type": "stream",
     "text": [
      "Tam ad:  Rabianur Becit\n"
     ]
    }
   ],
   "source": [
    "#SORU 2:\n",
    "def ad(isim,soyisim):\n",
    "    print(f'Tam ad:  {isim} {soyisim}')\n",
    "ad(\"Rabianur\",\"Becit\")"
   ]
  },
  {
   "cell_type": "code",
   "execution_count": 5,
   "id": "7e2e9280-b8fb-4e9d-a26a-fbf5e0d52762",
   "metadata": {},
   "outputs": [
    {
     "name": "stdout",
     "output_type": "stream",
     "text": [
      "[15, 25, 35]\n"
     ]
    }
   ],
   "source": [
    "#SORU 3:\n",
    "def tek_sayilari_bulma(sayilar):\n",
    "    tek_sayilar=[]\n",
    "    for sayi in sayilar:\n",
    "        if sayi%2 != 0:\n",
    "            tek_sayilar.append(sayi)\n",
    "    return tek_sayilar\n",
    "\n",
    "sayilar=[10, 15, 20, 25, 30, 35]\n",
    "tek_sayilar=tek_sayilari_bulma(sayilar)\n",
    "print(tek_sayilar)"
   ]
  },
  {
   "cell_type": "code",
   "execution_count": 7,
   "id": "298ae700-35ce-4a19-8589-9d9d80542f48",
   "metadata": {},
   "outputs": [
    {
     "name": "stdout",
     "output_type": "stream",
     "text": [
      "9\n",
      "2.0\n",
      "Bölen kısım 0 olamaz.\n",
      "10\n",
      "2\n",
      "0\n",
      "Bölen kısım 0 olamaz.\n"
     ]
    }
   ],
   "source": [
    "#SORU 4:\n",
    "def topla(sayi1,sayi2):\n",
    "    return sayi1 + sayi2\n",
    "\n",
    "def bolme(sayi1,sayi2):\n",
    "    if sayi2==0:\n",
    "        return \"Bölen kısım 0 olamaz.\"\n",
    "    return sayi1/sayi2\n",
    "\n",
    "def carpma(sayi1,sayi2):\n",
    "    return sayi1 * sayi2\n",
    "\n",
    "def cikarma(sayi1,sayi2):\n",
    "    return sayi1 - sayi2\n",
    "\n",
    "def mod(sayi1,sayi2):\n",
    "    if sayi2==0:\n",
    "        return \"Bölen kısım 0 olamaz.\"\n",
    "    return sayi1 % sayi2\n",
    "\n",
    "print(topla(2,7))     \n",
    "print(bolme(10,5))  \n",
    "print(bolme(10,0))        \n",
    "print(carpma(2,5))    \n",
    "print(cikarma(9,7))    \n",
    "print(mod(9,3))\n",
    "print(mod(9,0))"
   ]
  },
  {
   "cell_type": "code",
   "execution_count": 9,
   "id": "227dd18a-d629-4d5d-9c9c-811ef65c31d3",
   "metadata": {},
   "outputs": [
    {
     "name": "stdout",
     "output_type": "stream",
     "text": [
      "nohtyP\n",
      "PYTHON\n",
      "python\n",
      "6\n"
     ]
    }
   ],
   "source": [
    "#SORU 5:\n",
    "def metin_inceleme(metin,islem_tipi):\n",
    "    if islem_tipi==\"ters\":\n",
    "        return metin[::-1]\n",
    "    elif islem_tipi==\"buyuk\":\n",
    "        return metin.upper()\n",
    "    elif islem_tipi==\"kucuk\":\n",
    "        return metin.lower()\n",
    "    elif islem_tipi==\"uzunluk\":\n",
    "        return len(metin)\n",
    "    else:\n",
    "        return \"Geçersiz işlem\"\n",
    "\n",
    "print(metin_inceleme(\"Python\",\"ters\"))     \n",
    "print(metin_inceleme(\"Python\",\"buyuk\"))     \n",
    "print(metin_inceleme(\"Python\",\"kucuk\"))    \n",
    "print(metin_inceleme(\"Python\",\"uzunluk\")) "
   ]
  },
  {
   "cell_type": "code",
   "execution_count": 11,
   "id": "e80fb0b8-93ba-4e16-b93f-0247bdb29a27",
   "metadata": {},
   "outputs": [
    {
     "name": "stdout",
     "output_type": "stream",
     "text": [
      "['RABIA', 'İREM', 'BETÜL', 'GIZEM']\n"
     ]
    }
   ],
   "source": [
    "#SORU 6:\n",
    "def isim_ekle(*args):\n",
    "    isimler=[]\n",
    "    for isim in args:\n",
    "        isimler.append(isim.upper()) \n",
    "    return isimler \n",
    "\n",
    "print(isim_ekle(\"Rabia\", \"İrem\", \"Betül\", \"Gizem\"))"
   ]
  },
  {
   "cell_type": "code",
   "execution_count": 13,
   "id": "1dd168ea-4a10-448e-80c1-831395685af5",
   "metadata": {},
   "outputs": [
    {
     "name": "stdout",
     "output_type": "stream",
     "text": [
      "4\n",
      "Cümle kısa\n",
      "Cümle uzun\n"
     ]
    }
   ],
   "source": [
    "#SORU 7:\n",
    "def kelime_sayisi(metin):\n",
    "    return len(metin.split())  \n",
    "\n",
    "def cumle_analiz(metin):\n",
    "    kelime_sayisi_miktar=kelime_sayisi(metin) \n",
    "    if kelime_sayisi_miktar >= 5:\n",
    "        return \"Cümle uzun\"\n",
    "    else:\n",
    "        return \"Cümle kısa\"\n",
    "\n",
    "print(kelime_sayisi(\"Python bir programlama dilidir.\"))  \n",
    "print(cumle_analiz(\"Python bir programlama dilidir.\")) \n",
    "print(cumle_analiz(\"Python anlaşılması kolay bir programlama dilidir.\"))"
   ]
  },
  {
   "cell_type": "code",
   "execution_count": 15,
   "id": "bc3cdd02-071a-4a36-afb7-909e7634075e",
   "metadata": {},
   "outputs": [
    {
     "name": "stdout",
     "output_type": "stream",
     "text": [
      "10\n",
      "55\n"
     ]
    }
   ],
   "source": [
    "#SORU 8:\n",
    "def toplam(n):\n",
    "    if n==1:\n",
    "        return 1\n",
    "    return n+toplam(n - 1)\n",
    "\n",
    "print(toplam(4))  \n",
    "print(toplam(10)) "
   ]
  }
 ],
 "metadata": {
  "kernelspec": {
   "display_name": "Python [conda env:base] *",
   "language": "python",
   "name": "conda-base-py"
  },
  "language_info": {
   "codemirror_mode": {
    "name": "ipython",
    "version": 3
   },
   "file_extension": ".py",
   "mimetype": "text/x-python",
   "name": "python",
   "nbconvert_exporter": "python",
   "pygments_lexer": "ipython3",
   "version": "3.12.7"
  }
 },
 "nbformat": 4,
 "nbformat_minor": 5
}
