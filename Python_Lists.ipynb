{
 "cells": [
  {
   "cell_type": "code",
   "execution_count": 1,
   "id": "6e24d4fe-82b4-4450-9bb8-2500ba1af660",
   "metadata": {},
   "outputs": [
    {
     "name": "stdout",
     "output_type": "stream",
     "text": [
      "UzunluK:  4\n",
      "['elma', 'armut', 'kiraz', 'portakal']\n"
     ]
    }
   ],
   "source": [
    "#1\n",
    "meyveler = [\"elma\", \"muz\", \"çilek\", \"kiraz\"] \n",
    "meyveler.append(\"portakal\")\n",
    "meyveler[2]=\"armut\"\n",
    "meyveler.remove(\"muz\")\n",
    "print(\"UzunluK: \",len(meyveler))\n",
    "print(meyveler)"
   ]
  },
  {
   "cell_type": "code",
   "execution_count": 3,
   "id": "092b6cbc-6f1e-4cd3-96f4-db0a826a165c",
   "metadata": {},
   "outputs": [
    {
     "name": "stdout",
     "output_type": "stream",
     "text": [
      "En büyük sayı: 31\n",
      "En küçük sayı: 5\n"
     ]
    }
   ],
   "source": [
    "#2\n",
    "sayilar = [15, 8, 22, 31, 5, 10] \n",
    "en_buyuk=max(sayilar)\n",
    "en_kucuk=min(sayilar)\n",
    "print(\"En büyük sayı:\",en_buyuk)\n",
    "print(\"En küçük sayı:\",en_kucuk)"
   ]
  },
  {
   "cell_type": "code",
   "execution_count": 5,
   "id": "da8a5471-575b-4146-b384-e0497e68e1cf",
   "metadata": {},
   "outputs": [
    {
     "name": "stdout",
     "output_type": "stream",
     "text": [
      "İlk 5 elemanlı liste:  [10, 20, 30, 40, 50]\n",
      "Son 3 elemanlı liste:  [80, 90, 100]\n",
      "3. ve 7. indexler arasındaki elemanlarla oluşturulan liste: [40, 50, 60, 70, 80]\n"
     ]
    }
   ],
   "source": [
    "#3\n",
    "sayilar2 = [10, 20, 30, 40, 50, 60, 70, 80, 90, 100] \n",
    "liste1=sayilar2[:5]\n",
    "print(\"İlk 5 elemanlı liste: \",liste1)\n",
    "liste2=sayilar2[-3:]\n",
    "print(\"Son 3 elemanlı liste: \",liste2)\n",
    "liste3=sayilar2[3:8]\n",
    "print(\"3. ve 7. indexler arasındaki elemanlarla oluşturulan liste:\",liste3)"
   ]
  },
  {
   "cell_type": "code",
   "execution_count": 7,
   "id": "cea7bea7-51de-49f2-a9cd-c0925f26a392",
   "metadata": {},
   "outputs": [
    {
     "name": "stdout",
     "output_type": "stream",
     "text": [
      "1. ders: Matematik\n",
      "2. ders: Fizik\n",
      "3. ders: Kimya\n",
      "4. ders: Biyoloji\n"
     ]
    }
   ],
   "source": [
    "#4\n",
    "dersler = [\"Matematik\", \"Fizik\", \"Kimya\", \"Biyoloji\"] \n",
    "for i, ders in enumerate(dersler):\n",
    "    print(f\"{i+1}. ders: {ders}\")"
   ]
  },
  {
   "cell_type": "code",
   "execution_count": 9,
   "id": "cec16574-eba3-4ac1-9ffd-b3bf25aa54ee",
   "metadata": {},
   "outputs": [
    {
     "name": "stdout",
     "output_type": "stream",
     "text": [
      "A birleşim B:  {70, 40, 10, 50, 20, 60, 30}\n",
      "A kesişim B:  {40, 50, 30}\n",
      "A'da olup B'de olmayanlar:  {10, 20}\n",
      "B'de olup A'da olmayanlar:  {60, 70}\n"
     ]
    }
   ],
   "source": [
    "#5\n",
    "A = {10, 20, 30, 40, 50}\n",
    "B = {30, 40, 50, 60, 70}\n",
    "\n",
    "birlesim=A | B  \n",
    "print(\"A birleşim B: \",birlesim)\n",
    "\n",
    "kesisim=A & B \n",
    "print(\"A kesişim B: \", kesisim)\n",
    "\n",
    "fark1=A - B \n",
    "print(\"A'da olup B'de olmayanlar: \",fark1)\n",
    "\n",
    "fark2=B - A \n",
    "print(\"B'de olup A'da olmayanlar: \",fark2)"
   ]
  },
  {
   "cell_type": "code",
   "execution_count": 11,
   "id": "01735a6d-7060-47c5-b0b5-b67e1f84d60a",
   "metadata": {},
   "outputs": [
    {
     "name": "stdout",
     "output_type": "stream",
     "text": [
      "İlk üç elemanı:  (5, 10, 15)\n",
      "Son iki elemanı:  (30, 35)\n",
      "Tuple uzunluğu:  7\n",
      "20 sayısı tuple içinde bulunmaktadır.\n"
     ]
    }
   ],
   "source": [
    "#6\n",
    "veriler = (5, 10, 15, 20, 25, 30, 35)\n",
    "\n",
    "print(\"İlk üç elemanı: \",veriler[:3])\n",
    "print(\"Son iki elemanı: \",veriler[-2:])\n",
    "print(\"Tuple uzunluğu: \",len(veriler))\n",
    "\n",
    "if 20 in veriler:\n",
    "    print(\"20 sayısı tuple içinde bulunmaktadır.\")\n",
    "else:\n",
    "    print(\"20 sayısı tuple içinde bulunmamaktadır.\")"
   ]
  },
  {
   "cell_type": "code",
   "execution_count": 13,
   "id": "448c5b40-03c0-4e2e-820b-ae40b54daf39",
   "metadata": {},
   "outputs": [
    {
     "name": "stdout",
     "output_type": "stream",
     "text": [
      "İsim:  Ahmet\n",
      "{'isim': 'Ahmet', 'yas': 21, 'bolum': 'Bilgisayar Mühendisliği', 'okul': 'İTÜ'}\n"
     ]
    }
   ],
   "source": [
    "#7\n",
    "ogrenci = {\"isim\": \"Ahmet\", \"yas\": 20, \"bolum\": \"Bilgisayar Mühendisliği\"}\n",
    "ogrenci[\"yas\"]=21\n",
    "ogrenci[\"okul\"]=\"İTÜ\"\n",
    "print(\"İsim: \",ogrenci[\"isim\"])\n",
    "print(ogrenci)"
   ]
  },
  {
   "cell_type": "code",
   "execution_count": 15,
   "id": "a26fdbb2-3bc3-4822-933f-498b585bb668",
   "metadata": {},
   "outputs": [
    {
     "name": "stdout",
     "output_type": "stream",
     "text": [
      "Ali: 85\n",
      "Zeynep: 90\n",
      "Mehmet: 78\n",
      "Elif: 95\n"
     ]
    }
   ],
   "source": [
    "#8\n",
    "ders_notlari = {\n",
    "    \"Ali\": 85,\n",
    "    \"Zeynep\": 90,\n",
    "    \"Mehmet\": 78,\n",
    "    \"Elif\": 95\n",
    "}\n",
    "\n",
    "for isim, puan in ders_notlari.items():\n",
    "    print(f\"{isim}: {puan}\")"
   ]
  },
  {
   "cell_type": "code",
   "execution_count": 17,
   "id": "3d4c0803-076f-4cea-be4c-aa3b2151cc57",
   "metadata": {},
   "outputs": [
    {
     "name": "stdout",
     "output_type": "stream",
     "text": [
      "İ harfi içeren şehirler:  ['İstanbul', 'İzmir']\n",
      "İ harfi içeren şehirler: ['İstanbul', 'İzmir']\n"
     ]
    }
   ],
   "source": [
    "#9\n",
    "sehirler = [\"Ankara\", \"İstanbul\", \"İzmir\", \"Bursa\", \"Antalya\", \"Adana\", \"Trabzon\"]\n",
    "sehirler_i=[]\n",
    "for sehir in sehirler:\n",
    "    if \"İ\" in sehir or \"i\" in sehir: \n",
    "        sehirler_i.append(sehir)\n",
    "print(\"İ harfi içeren şehirler: \",sehirler_i)\n",
    "\n",
    "\n",
    "sehirler_i2= [sehir for sehir in sehirler if \"İ\" in sehir or \"i\" in sehir]\n",
    "print(\"İ harfi içeren şehirler:\", sehirler_i2)"
   ]
  },
  {
   "cell_type": "code",
   "execution_count": 19,
   "id": "2488672c-ec34-4b0d-af34-f02f80343d5d",
   "metadata": {},
   "outputs": [
    {
     "name": "stdout",
     "output_type": "stream",
     "text": [
      "1 ile 50 arasındaki sayılar:  [1, 2, 3, 4, 5, 6, 7, 8, 9, 10, 11, 12, 13, 14, 15, 16, 17, 18, 19, 20, 21, 22, 23, 24, 25, 26, 27, 28, 29, 30, 31, 32, 33, 34, 35, 36, 37, 38, 39, 40, 41, 42, 43, 44, 45, 46, 47, 48, 49, 50]\n",
      "5'e bölünebilen sayılar:  [5, 10, 15, 20, 25, 30, 35, 40, 45, 50]\n"
     ]
    }
   ],
   "source": [
    "#10\n",
    "sayilar=list(range(1,51))\n",
    "bese_bolunenler= [sayi for sayi in sayilar if sayi%5==0]\n",
    "\n",
    "print(\"1 ile 50 arasındaki sayılar: \",sayilar)\n",
    "print(\"5'e bölünebilen sayılar: \",bese_bolunenler)"
   ]
  }
 ],
 "metadata": {
  "kernelspec": {
   "display_name": "Python [conda env:base] *",
   "language": "python",
   "name": "conda-base-py"
  },
  "language_info": {
   "codemirror_mode": {
    "name": "ipython",
    "version": 3
   },
   "file_extension": ".py",
   "mimetype": "text/x-python",
   "name": "python",
   "nbconvert_exporter": "python",
   "pygments_lexer": "ipython3",
   "version": "3.12.7"
  }
 },
 "nbformat": 4,
 "nbformat_minor": 5
}
